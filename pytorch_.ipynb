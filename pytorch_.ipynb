{
  "nbformat": 4,
  "nbformat_minor": 0,
  "metadata": {
    "colab": {
      "provenance": [],
      "authorship_tag": "ABX9TyP2X6bvvhvGz6XbZuoIiF72",
      "include_colab_link": true
    },
    "kernelspec": {
      "name": "python3",
      "display_name": "Python 3"
    },
    "language_info": {
      "name": "python"
    }
  },
  "cells": [
    {
      "cell_type": "markdown",
      "metadata": {
        "id": "view-in-github",
        "colab_type": "text"
      },
      "source": [
        "<a href=\"https://colab.research.google.com/github/amirmohammadkalateh/Mental_Health_Lifestyle/blob/main/pytorch_.ipynb\" target=\"_parent\"><img src=\"https://colab.research.google.com/assets/colab-badge.svg\" alt=\"Open In Colab\"/></a>"
      ]
    },
    {
      "cell_type": "code",
      "execution_count": 5,
      "metadata": {
        "colab": {
          "base_uri": "https://localhost:8080/"
        },
        "id": "t19NUWekprd7",
        "outputId": "124290ee-40ab-4c3b-f1e2-ef2f4046f488"
      },
      "outputs": [
        {
          "output_type": "stream",
          "name": "stdout",
          "text": [
            "Training the model...\n",
            "Epoch [10/100], Loss: 6.4078\n",
            "Epoch [20/100], Loss: 6.2597\n",
            "Epoch [30/100], Loss: 6.0097\n",
            "Epoch [40/100], Loss: 5.5823\n",
            "Epoch [50/100], Loss: 5.1569\n",
            "Epoch [60/100], Loss: 4.7947\n",
            "Epoch [70/100], Loss: 4.4931\n",
            "Epoch [80/100], Loss: 4.1154\n",
            "Epoch [90/100], Loss: 3.8323\n",
            "Epoch [100/100], Loss: 3.7453\n",
            "\n",
            "Test Loss: 8.3636\n",
            "R-squared Score: -0.2355\n"
          ]
        }
      ],
      "source": [
        "\n",
        "import pandas as pd\n",
        "import numpy as np\n",
        "import torch\n",
        "import torch.nn as nn\n",
        "from sklearn.model_selection import train_test_split\n",
        "from sklearn.preprocessing import StandardScaler, LabelEncoder\n",
        "\n",
        "# Load and preprocess data\n",
        "df = pd.read_csv('Mental_Health_Lifestyle_Dataset.csv')\n",
        "\n",
        "# Encode categorical variables\n",
        "categorical_cols = ['Country', 'Gender', 'Exercise Level', 'Diet Type', 'Stress Level', 'Mental Health Condition']\n",
        "label_encoders = {}\n",
        "for col in categorical_cols:\n",
        "    label_encoders[col] = LabelEncoder()\n",
        "    df[col] = label_encoders[col].fit_transform(df[col])\n",
        "\n",
        "# Prepare features and target\n",
        "X = df.drop(['Happiness Score'], axis=1)\n",
        "y = df['Happiness Score']\n",
        "\n",
        "# Split data\n",
        "X_train, X_test, y_train, y_test = train_test_split(X, y, test_size=0.2, random_state=42)\n",
        "\n",
        "# Scale features\n",
        "scaler = StandardScaler()\n",
        "X_train_scaled = scaler.fit_transform(X_train)\n",
        "X_test_scaled = scaler.transform(X_test)\n",
        "\n",
        "# Convert to PyTorch tensors\n",
        "X_train_tensor = torch.FloatTensor(X_train_scaled)\n",
        "y_train_tensor = torch.FloatTensor(y_train.values).reshape(-1, 1)\n",
        "X_test_tensor = torch.FloatTensor(X_test_scaled)\n",
        "y_test_tensor = torch.FloatTensor(y_test.values).reshape(-1, 1)\n",
        "\n",
        "# Define the model\n",
        "class MentalHealthANN(nn.Module):\n",
        "    def __init__(self, input_size):\n",
        "        super(MentalHealthANN, self).__init__()\n",
        "        self.layer1 = nn.Linear(input_size, 64)\n",
        "        self.layer2 = nn.Linear(64, 32)\n",
        "        self.layer3 = nn.Linear(32, 1)\n",
        "        self.relu = nn.ReLU()\n",
        "\n",
        "    def forward(self, x):\n",
        "        x = self.relu(self.layer1(x))\n",
        "        x = self.relu(self.layer2(x))\n",
        "        x = self.layer3(x)\n",
        "        return x\n",
        "\n",
        "# Initialize model and optimizer\n",
        "model = MentalHealthANN(X_train.shape[1])\n",
        "criterion = nn.MSELoss()\n",
        "optimizer = torch.optim.Adam(model.parameters(), lr=0.001)\n",
        "\n",
        "# Training\n",
        "epochs = 100\n",
        "batch_size = 32\n",
        "n_batches = len(X_train_tensor) // batch_size\n",
        "\n",
        "print(\"Training the model...\")\n",
        "for epoch in range(epochs):\n",
        "    for i in range(n_batches):\n",
        "        start = i * batch_size\n",
        "        end = start + batch_size\n",
        "\n",
        "        optimizer.zero_grad()\n",
        "        outputs = model(X_train_tensor[start:end])\n",
        "        loss = criterion(outputs, y_train_tensor[start:end])\n",
        "        loss.backward()\n",
        "        optimizer.step()\n",
        "\n",
        "    if (epoch + 1) % 10 == 0:\n",
        "        print(f'Epoch [{epoch+1}/{epochs}], Loss: {loss.item():.4f}')\n",
        "\n",
        "# Evaluation\n",
        "model.eval()\n",
        "with torch.no_grad():\n",
        "    y_pred = model(X_test_tensor)\n",
        "    test_loss = criterion(y_pred, y_test_tensor)\n",
        "    print(f'\\nTest Loss: {test_loss.item():.4f}')\n",
        "\n",
        "    # Calculate R-squared\n",
        "    y_mean = torch.mean(y_test_tensor)\n",
        "    ss_tot = torch.sum((y_test_tensor - y_mean) ** 2)\n",
        "    ss_res = torch.sum((y_test_tensor - y_pred) ** 2)\n",
        "    r2 = 1 - (ss_res / ss_tot)\n",
        "    print(f'R-squared Score: {r2.item():.4f}')\n"
      ]
    }
  ]
}